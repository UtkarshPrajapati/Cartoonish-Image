{
 "cells": [
  {
   "cell_type": "code",
   "execution_count": null,
   "metadata": {},
   "outputs": [],
   "source": [
    "import cv2\n",
    "import matplotlib.pyplot as plt"
   ]
  },
  {
   "cell_type": "code",
   "execution_count": null,
   "metadata": {},
   "outputs": [],
   "source": [
    "import cv2\n",
    "import numpy as np\n",
    "def car(img):\n",
    "    gray = cv2.cvtColor(img, cv2.COLOR_BGR2GRAY)\n",
    "    blur = cv2.medianBlur(gray,4)\n",
    "    edges = cv2.adaptiveThreshold(blur,255,cv2.ADAPTIVE_THRESH_MEAN_C,cv2.THRESH_BINARY,9,9)\n",
    "    bilat = cv2.bilateralFilter(blur, 9, 250, 250)\n",
    "    x=np.ones([1,1],np.uint8)\n",
    "    erode=cv2.erode(bilat,x,iterations=3)\n",
    "    dilate=cv2.erode(erode,x,iterations=3)\n",
    "    imgf=np.float32(img).reshape(-1,3)\n",
    "    criteria=(cv2.TERM_CRITERIA_EPS+cv2.TERM_CRITERIA_MAX_ITER,20,1.0)\n",
    "    compactness,label,center=cv2.kmeans(imgf,50,None,criteria,1,cv2.KMEANS_RANDOM_CENTERS)\n",
    "    final_img=np.uint8(center)[label.flatten()].reshape(img.shape)\n",
    "    final = cv2.bitwise_and(final_img,final_img, mask=edges)\n",
    "    return final"
   ]
  },
  {
   "cell_type": "code",
   "execution_count": null,
   "metadata": {},
   "outputs": [],
   "source": [
    "try:\n",
    "    stream = cv2.VideoCapture(0)\n",
    "    while(True):\n",
    "        frame=cv2.flip(stream.read()[1],1)\n",
    "        cv2.imshow(\"Cartoon\", car(frame))\n",
    "        if cv2.waitKey(1) == ord(\"q\"):\n",
    "            break\n",
    "    stream.release()\n",
    "    cv2.destroyAllWindows()\n",
    "except Exception as e:\n",
    "    stream.release()\n",
    "    cv2.destroyAllWindows()\n",
    "    print(repr(e))"
   ]
  },
  {
   "cell_type": "code",
   "execution_count": null,
   "metadata": {},
   "outputs": [],
   "source": [
    "stream.release()\n",
    "cv2.destroyAllWindows()"
   ]
  },
  {
   "cell_type": "code",
   "execution_count": null,
   "metadata": {},
   "outputs": [
    {
     "name": "stdout",
     "output_type": "stream",
     "text": [
      "[[1]]\n"
     ]
    }
   ],
   "source": [
    "print(np.ones((1,1),np.uint8))"
   ]
  },
  {
   "cell_type": "code",
   "execution_count": null,
   "metadata": {},
   "outputs": [],
   "source": []
  }
 ],
 "metadata": {
  "kernelspec": {
   "display_name": "Python 3.9.12 ('base')",
   "language": "python",
   "name": "python3"
  },
  "language_info": {
   "codemirror_mode": {
    "name": "ipython",
    "version": 3
   },
   "file_extension": ".py",
   "mimetype": "text/x-python",
   "name": "python",
   "nbconvert_exporter": "python",
   "pygments_lexer": "ipython3",
   "version": "3.9.12"
  },
  "orig_nbformat": 4,
  "vscode": {
   "interpreter": {
    "hash": "f2b718e513c62edc6ede9b03ad3c84aa738011d553e5bf64ca2c77beb104330f"
   }
  }
 },
 "nbformat": 4,
 "nbformat_minor": 2
}
